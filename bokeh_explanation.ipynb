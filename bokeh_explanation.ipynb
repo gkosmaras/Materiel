{
 "cells": [
  {
   "cell_type": "markdown",
   "metadata": {},
   "source": [
    "Bokeh is a visualisation library, that can be used among others, to create interactive plots. Below is a collection of examples with accompanying explanation\n",
    "to ease the transition from \"common\" libraries such as seaborn and matplot to an interactive one."
   ]
  },
  {
   "cell_type": "code",
   "execution_count": 29,
   "metadata": {},
   "outputs": [],
   "source": [
    "import pandas as pd\n",
    "from bokeh.plotting import figure, show, ColumnDataSource\n",
    "from bokeh.models import HoverTool\n",
    "from bokeh.sampledata.stocks import AAPL, GOOG, IBM, MSFT"
   ]
  },
  {
   "cell_type": "markdown",
   "metadata": {},
   "source": [
    "For the sake of the example, we will use the stock database that bokeh has available. What it imports is a dictionary for each stock requested, representing a time series about the price of that particular stock. Specifically, we will use Apple, Google, IBM and Microsoft stocks."
   ]
  },
  {
   "cell_type": "code",
   "execution_count": 2,
   "metadata": {},
   "outputs": [
    {
     "name": "stdout",
     "output_type": "stream",
     "text": [
      "         date    open    high     low   close    volume  adj_close\n",
      "0  2000-03-01  118.56  132.06  118.50  130.31  38478000      31.68\n",
      "1  2000-03-02  127.00  127.94  120.69  122.00  11136800      29.66\n",
      "2  2000-03-03  124.87  128.23  120.00  128.00  11565200      31.12\n",
      "3  2000-03-06  126.00  129.13  125.00  125.69   7520000      30.56\n",
      "4  2000-03-07  126.44  127.44  121.12  122.87   9767600      29.87\n"
     ]
    }
   ],
   "source": [
    "# We'll  create pandas dataframes from the dictionaries, for ease of use\n",
    "apple=pd.DataFrame.from_dict(AAPL)\n",
    "google=pd.DataFrame.from_dict(GOOG)\n",
    "ibm=pd.DataFrame.from_dict(IBM)\n",
    "micro=pd.DataFrame.from_dict(MSFT)\n",
    "\n",
    "# Have a look at what the dataframes contain:\n",
    "print(apple.head(5))\n",
    "\n",
    "# After checking, we see that the date column is not of datetime type.\n",
    "# As we work with time series, we need to convert it to datetime.\n",
    "apple[\"date\"]=pd.to_datetime(apple[\"date\"])\n",
    "google[\"date\"]=pd.to_datetime(google[\"date\"])\n",
    "ibm[\"date\"]=pd.to_datetime(ibm[\"date\"])\n",
    "micro[\"date\"]=pd.to_datetime(micro[\"date\"])"
   ]
  },
  {
   "cell_type": "markdown",
   "metadata": {},
   "source": [
    "Now we'll start plotting. Apart from the interactive section, graphing in bokeh\n",
    "follows similar logic to the graphing libraries we're used to."
   ]
  },
  {
   "cell_type": "code",
   "execution_count": 3,
   "metadata": {},
   "outputs": [],
   "source": [
    "# First we create a figure on top of which we will plot\n",
    "fig=figure(width=1600, height=500, x_axis_type=\"datetime\")\n",
    "# Necessary to include (x_axis_type=\"datetime\") when working with time series\n",
    "\n",
    "# We can change the title, labels etc. directly on the figure\n",
    "fig.title.text=\"Our title\"\n",
    "fig.xaxis.axis_label=\"Our x-axis label\"\n",
    "fig.yaxis.axis_label=\"Our y-axis label\"\n",
    "\n",
    "# Now we before we can plot out stock we need to \"transform\" our data, \n",
    "# from a pandas dataframe to a ColumnDataSource (CDS) file, that is\n",
    "# readable by bokeh\n",
    "transformed_apple=ColumnDataSource(apple)\n",
    "fig.line(\"date\", \"open\", source=transformed_apple)\n",
    "show(fig)"
   ]
  },
  {
   "cell_type": "markdown",
   "metadata": {},
   "source": [
    "Great! We created our first plot; but such a graph could have been made in other libraries as well. What about the interactions? By default we can only drag and move the graph. Let's delve a little deeper and try to implement a zooming in/out mechanism."
   ]
  },
  {
   "cell_type": "code",
   "execution_count": 4,
   "metadata": {},
   "outputs": [],
   "source": [
    "# Once more we create the figure, customize our title, labels etc.\n",
    "# But now we will pass some tools into the figure\n",
    "\n",
    "our_tools=\"pan\", \"wheel_zoom\" \n",
    "            # Two extremely common tools, they are included in the graphs\n",
    "            # by default. Added them to showcase tool addition.\n",
    "            # For more tool selection see the documentation: \n",
    "            # https://docs.bokeh.org/en/2.4.0/docs/reference/models/tools.html\n",
    "\n",
    "fig1=figure(width=1600, height=500, tools=our_tools,\n",
    "            active_scroll=\"wheel_zoom\",\n",
    "            x_axis_type=\"datetime\")\n",
    "            # active_scroll defines which action will zoom in/out\n",
    "\n",
    "fig1.title.text=\"Our interactive title\"\n",
    "fig1.xaxis.axis_label=\"Our interactive x-axis label\"\n",
    "fig1.yaxis.axis_label=\"Our interactive y-axis label\"\n",
    "\n",
    "transformed_apple=ColumnDataSource(apple)\n",
    "fig1.line(\"date\", \"open\", source=transformed_apple)\n",
    "show(fig1)"
   ]
  },
  {
   "cell_type": "markdown",
   "metadata": {},
   "source": [
    "Ok, now we can zoom in/out, pan etc. But a stock price graph like that, spanning more than a decade, can make distinguishing stock price for a particular date difficult. Plus, our datasets contain so much information about opening and closing prices, trading volumes etc. We should include them in such a way, that the \"imaginary\" vertical intersection of our mouse with the graph shows us those detail for the intersecting date."
   ]
  },
  {
   "cell_type": "code",
   "execution_count": 5,
   "metadata": {},
   "outputs": [],
   "source": [
    "# We begin as usual\n",
    "our_tools=\"pan\", \"wheel_zoom\"\n",
    "fig2=figure(width=1600, height=500, tools=our_tools,\n",
    "                active_scroll=\"wheel_zoom\",\n",
    "                x_axis_type=\"datetime\")\n",
    "fig2.title.text=\"Our intersecting title\"\n",
    "fig2.xaxis.axis_label=\"Our intersecting x-axis label\"\n",
    "fig2.yaxis.axis_label=\"Our intersecting y-axis label\"\n",
    "transformed_apple=ColumnDataSource(apple)\n",
    "fig2.line(\"date\", \"open\", source=transformed_apple)\n",
    "\n",
    "#Now we add our more advanced tools\n",
    "fig2.add_tools(HoverTool(tooltips=[\n",
    "                                (\"Calendar date\", \"@date{%F}\"), \n",
    "                                # The {%F} \"marks\" the variable for formatting\n",
    "                                (\"Opening price\", \"@open{0,}\"),\n",
    "                                # The {0,} denotes that we want numbers with\n",
    "                                # commas denoting thousands, millions etc.\n",
    "                                (\"Daily high\", \"@high{0,}\"),\n",
    "                                (\"Daily low\", \"@low{0,}\"),\n",
    "                                (\"Closing price\", \"@close{0,}\"),\n",
    "                                (\"Trading volume\", \"@volume{0,}\")\n",
    "                                ],\n",
    "                        formatters={\"@date\": \"datetime\"},\n",
    "                        mode=\"vline\")\n",
    "                )\n",
    "show(fig2)"
   ]
  },
  {
   "cell_type": "markdown",
   "metadata": {},
   "source": [
    "Perfect! Now we have all the information about a stock at any given date. But we have data for four different stocks. Wouldn't it be better if we display the all and switch on and off whichever we want?"
   ]
  },
  {
   "cell_type": "code",
   "execution_count": 23,
   "metadata": {},
   "outputs": [],
   "source": [
    "# The process of doing it is completely straightforward\n",
    "our_tools=\"pan\", \"wheel_zoom\"\n",
    "fig3=figure(width=1600, height=500, tools=our_tools,\n",
    "                active_scroll=\"wheel_zoom\",\n",
    "                x_axis_type=\"datetime\")\n",
    "fig3.title.text=\"Our combined title\"\n",
    "fig3.xaxis.axis_label=\"Our combined x-axis label\"\n",
    "fig3.yaxis.axis_label=\"Our combined y-axis label\"\n",
    "\n",
    "#Now we pass the graph for each stock, as we have done already\n",
    "transformed_apple=ColumnDataSource(apple)\n",
    "fig3.line(\"date\", \"open\", source=transformed_apple,\n",
    "                line_width=1.7, alpha=1,\n",
    "                color=\"crimson\", legend_label=\"Apple\")\n",
    "                # We need to define the colours and legends ourselves, otherwise\n",
    "                # they won't be able to differeniate them\n",
    "transformed_google=ColumnDataSource(google)\n",
    "fig3.line(\"date\", \"open\", source=transformed_google,\n",
    "                line_width=1.7,\n",
    "                color=\"olive\", legend_label=\"Google\")\n",
    "transformed_ibm=ColumnDataSource(ibm)\n",
    "fig3.line(\"date\", \"open\", source=transformed_ibm,\n",
    "                line_width=1.7,\n",
    "                color=\"fuchsia\", legend_label=\"IBM\")\n",
    "transformed_micro=ColumnDataSource(micro)\n",
    "fig3.line(\"date\", \"open\", source=transformed_micro,\n",
    "                line_width=1.7,\n",
    "                color=\"black\", legend_label=\"Microsoft\")\n",
    "\n",
    "# Add our tools as per usual\n",
    "fig3.add_tools(HoverTool(tooltips=[\n",
    "                                (\"Calendar date\", \"@date{%F}\"), \n",
    "                                (\"Opening price\", \"@open{0,}\"),\n",
    "                                (\"Daily high\", \"@high{0,}\"),\n",
    "                                (\"Daily low\", \"@low{0,}\"),\n",
    "                                (\"Closing price\", \"@close{0,}\"),\n",
    "                                (\"Trading volume\", \"@volume{0,}\")\n",
    "                                ],\n",
    "                        formatters={\"@date\": \"datetime\"},\n",
    "                        mode=\"vline\")\n",
    "                )\n",
    "show(fig3)"
   ]
  },
  {
   "cell_type": "markdown",
   "metadata": {},
   "source": [
    "All's great and well, but the hover tooltips of all the stocks overlap, and it makes it difficult to make sense of the screen. We want the ability to \"mute\" stocks at will, so we can view the desirable ones at our leisure."
   ]
  },
  {
   "cell_type": "code",
   "execution_count": 31,
   "metadata": {},
   "outputs": [],
   "source": [
    "# The code is the same as the above one almost word for word\n",
    "our_tools=\"pan\", \"wheel_zoom\"\n",
    "fig4=figure(width=1600, height=500, tools=our_tools,\n",
    "                active_scroll=\"wheel_zoom\",\n",
    "                x_axis_type=\"datetime\")\n",
    "fig4.title.text=\"Our final title\"\n",
    "fig4.xaxis.axis_label=\"Our final x-axis label\"\n",
    "fig4.yaxis.axis_label=\"Our final y-axis label\"\n",
    "\n",
    "\n",
    "transformed_apple=ColumnDataSource(apple)\n",
    "fig4.line(\"date\", \"open\", source=transformed_apple,\n",
    "                line_width=1.7, color=\"crimson\", alpha=1,\n",
    "                # Alpha denotes how visible our line will be, in range[0,1]\n",
    "                muted_color=\"crimson\", muted_alpha=0.2,\n",
    "                # The muted_arguments define the colour and visibility \n",
    "                # of the lines once muted\n",
    "                legend_label=\"Apple\")\n",
    "transformed_google=ColumnDataSource(google)\n",
    "fig4.line(\"date\", \"open\", source=transformed_google,\n",
    "                line_width=1.7, color=\"olive\", alpha=1,\n",
    "                muted_color=\"olive\", muted_alpha=0.2,\n",
    "                legend_label=\"Google\")\n",
    "transformed_ibm=ColumnDataSource(ibm)\n",
    "fig4.line(\"date\", \"open\", source=transformed_ibm,\n",
    "                line_width=1.7, color=\"fuchsia\", alpha=1,\n",
    "                muted_color=\"fuchsia\", muted_alpha=0.2,\n",
    "                legend_label=\"IBM\")\n",
    "transformed_micro=ColumnDataSource(micro)\n",
    "fig4.line(\"date\", \"open\", source=transformed_micro,\n",
    "                line_width=1.7, color=\"black\", alpha=1,\n",
    "                muted_color=\"black\", muted_alpha=0.2,\n",
    "                legend_label=\"Microsoft\")\n",
    "\n",
    "\n",
    "fig4.add_tools(HoverTool(tooltips=[\n",
    "                                (\"Calendar date\", \"@date{%F}\"), \n",
    "                                (\"Opening price\", \"@open{0,}\"),\n",
    "                                (\"Daily high\", \"@high{0,}\"),\n",
    "                                (\"Daily low\", \"@low{0,}\"),\n",
    "                                (\"Closing price\", \"@close{0,}\"),\n",
    "                                (\"Trading volume\", \"@volume{0,}\")\n",
    "                                ],\n",
    "                        formatters={\"@date\": \"datetime\"},\n",
    "                        muted_policy=\"ignore\", # Default is show, we set it to\n",
    "                                        # ingore so that there won't be\n",
    "                                        # hover tooltips on muted lines\n",
    "                        mode=\"vline\")\n",
    "                )\n",
    "fig4.legend.location=\"top_left\"\n",
    "fig4.legend.click_policy=\"mute\" # On clicking the legend, the corresponding\n",
    "                        # line will become less visible. If we pass \"hide\" as\n",
    "                        # argument, it will disappear completely\n",
    "show(fig4)\n"
   ]
  },
  {
   "cell_type": "markdown",
   "metadata": {},
   "source": [
    "Success! We have created an interactive stock graph, like those we see at MarketWatch and Bloomberg."
   ]
  }
 ],
 "metadata": {
  "kernelspec": {
   "display_name": "Python 3.9.7 ('base')",
   "language": "python",
   "name": "python3"
  },
  "language_info": {
   "codemirror_mode": {
    "name": "ipython",
    "version": 3
   },
   "file_extension": ".py",
   "mimetype": "text/x-python",
   "name": "python",
   "nbconvert_exporter": "python",
   "pygments_lexer": "ipython3",
   "version": "3.9.7"
  },
  "orig_nbformat": 4,
  "vscode": {
   "interpreter": {
    "hash": "34ab73eb2a201c4b750598ec4bd41f14c725bb809bc0c8207569acb80dee3ff5"
   }
  }
 },
 "nbformat": 4,
 "nbformat_minor": 2
}
