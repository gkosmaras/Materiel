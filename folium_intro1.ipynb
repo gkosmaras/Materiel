{
 "cells": [
  {
   "cell_type": "markdown",
   "metadata": {},
   "source": [
    "For map creation, one useful interactive library is folium. It comes prepackaged with tilesets from OpenStreetMap, among others, and supports overlays."
   ]
  },
  {
   "cell_type": "code",
   "execution_count": null,
   "metadata": {},
   "outputs": [],
   "source": [
    "# We import it first of course.\n",
    "import folium\n",
    "import pandas as pd\n",
    "\n",
    "# After that, we can immediately set on creating a map\n",
    "m=folium.Map()\n",
    "# By default it will show the world map zoomed out all the way. We can\n",
    "    # remedy that by passing arguments.\n",
    "m=folium.Map(location=[39.9042,116.4074],\n",
    "                # The location we want our map to centre. In our case Beijing.\n",
    "                zoom_start=12,\n",
    "                    # Starting zoom step\n",
    "                max_zoom=26,\n",
    "                    # Maximum zooming step\n",
    "                min_zoom=9)\n",
    "                    # Minimum zooming step\n",
    "m"
   ]
  },
  {
   "cell_type": "markdown",
   "metadata": {},
   "source": [
    "Ok, now we have a map with basic functionality; but what if we want to add more? Let's try to add some markers around interesting places in the city."
   ]
  },
  {
   "cell_type": "code",
   "execution_count": null,
   "metadata": {},
   "outputs": [],
   "source": [
    "m=folium.Map(location=[39.9042,116.4074], zoom_start=12, min_zoom=9)\n",
    "folium.Marker([39.9169,116.3907]).add_to(m) \n",
    "    # We will add a marker at the specified coordinates (Forbidden City)\n",
    "folium.Marker([39.9055,116.3976]).add_to(m)\n",
    "    # Tian'anmen Square\n",
    "folium.Marker([39.8822,116.4066]).add_to(m)\n",
    "    # Temple of Heaven\n",
    "m"
   ]
  },
  {
   "cell_type": "markdown",
   "metadata": {},
   "source": [
    "We got the markers to appear on the map, but we can not know which one corresponds to which place. It would be nice for some information text to appear. Luckily that is easy to implement."
   ]
  },
  {
   "cell_type": "code",
   "execution_count": null,
   "metadata": {},
   "outputs": [],
   "source": [
    "m=folium.Map(location=[39.9042,116.4074], zoom_start=12, min_zoom=9)\n",
    "folium.Marker([39.9169,116.3907], popup=\"Forbidden City\").add_to(m)\n",
    "folium.Marker([39.9055,116.3976], popup=\"Tian'anmen Square\").add_to(m)\n",
    "folium.Marker([39.8822,116.4066], popup=\"Temple of Heaven\").add_to(m)\n",
    "m"
   ]
  },
  {
   "cell_type": "markdown",
   "metadata": {},
   "source": [
    "We could leave it as is, but the information text will appear only when clicking a marker. That is not very intuitive for someone who does not know the map's architecture. So we'll make it more accessible."
   ]
  },
  {
   "cell_type": "code",
   "execution_count": null,
   "metadata": {},
   "outputs": [],
   "source": [
    "m=folium.Map(location=[39.9042,116.4074], zoom_start=12, min_zoom=9)\n",
    "tools=\"Click here for information!\"\n",
    "folium.Marker([39.9169,116.3907], \n",
    "                popup=\"Forbidden City\", \n",
    "                tooltip=tools).add_to(m)\n",
    "folium.Marker([39.9055,116.3976], \n",
    "                popup=\"Tian'anmen Square\",\n",
    "                tooltip=tools).add_to(m)\n",
    "folium.Marker([39.8822,116.4066], \n",
    "                popup=\"Temple of Heaven\",\n",
    "                tooltip=tools).add_to(m)\n",
    "m"
   ]
  },
  {
   "cell_type": "markdown",
   "metadata": {},
   "source": [
    "There's more customisation to be done on the markers, defining the colour, the shape of the markers etc. Below are some examples."
   ]
  },
  {
   "cell_type": "code",
   "execution_count": null,
   "metadata": {},
   "outputs": [],
   "source": [
    "m=folium.Map(location=[39.9042,116.4074], zoom_start=12, min_zoom=9)\n",
    "tools=\"Click here for information!\"\n",
    "folium.Marker([39.9169,116.3907], popup=\"Forbidden City\", \n",
    "                tooltip=tools, \n",
    "                icon=folium.Icon(icon=\"cloud\",\n",
    "                                    # Change the marker to a cloud one\n",
    "                                color=\"green\")).add_to(m)\n",
    "                                    # Colour it green\n",
    "folium.CircleMarker([39.9055,116.3976], popup=\"Tian'anmen Square\",\n",
    "                tooltip=tools, \n",
    "                radius=10,\n",
    "                    # Radius in metres\n",
    "                color=\"crimson\", \n",
    "                    # Colour of the circle's perimetre\n",
    "                fill=True,\n",
    "                    # Whether or not to fill the inside of the circle\n",
    "                fill_color=\"black\").add_to(m)\n",
    "                    # Colour to fill the circle\n",
    "folium.Circle([39.8822,116.4066], popup=\"Temple of Heaven\",\n",
    "                tooltip=tools, \n",
    "                radius=1000,\n",
    "                color=\"black\",\n",
    "                fill=True,\n",
    "                fill_color=\"crimson\").add_to(m).add_to(m)\n",
    "m\n",
    "# Circle and CircleMarker are almost identical, with their only difference \n",
    "# being that CircleMarker radius is measured in meters while\n",
    "# Circle radius is measured in pixels"
   ]
  },
  {
   "cell_type": "markdown",
   "metadata": {},
   "source": [
    "We saw how we can add markers and pointers on a map. We can also mark specific countries. In order to showcase countries, folium needs a \"Polygon\" object, which is literally this, a polygon that approximates a country's borders. "
   ]
  },
  {
   "cell_type": "code",
   "execution_count": null,
   "metadata": {},
   "outputs": [],
   "source": [
    "# We will import a json file with the world's countries and their\n",
    "# polygon objects\n",
    "import json\n",
    "with open (\"world_countries.json\") as i:\n",
    "    countries = json.loads(i.read())\n",
    "# The list that we loaded contains all the countries in the world. For the\n",
    "# explanation's sake we will choose some specific ones.\n",
    "country_list = [\"Brazil\", \"Russia\", \"India\", \n",
    "                \"China\", \"South Africa\"]\n",
    "# The map we will be using, Choropleth, is designed for heatmaps, or \n",
    "# colour-scale maps. Unless we add a second column to our dataframe, \n",
    "# to serve as the hue of the map, we can not plot it.\n",
    "country_list = pd.DataFrame(country_list, columns=[\"name\"])\n",
    "country_list[\"GDP\"]=0\n",
    "\n",
    "# Create the map\n",
    "m = folium.Map(location=[51,10], zoom_start=3)\n",
    "# Plot our selected countries\n",
    "i = folium.Choropleth(geo_data=countries,\n",
    "                        # The data source from where it will get the\n",
    "                            # polygon shapes and coordinates\n",
    "                        data=country_list,\n",
    "                        # The data source for the countries we want to\n",
    "                            # show\n",
    "                        columns=[\"name\", \"GDP\"],\n",
    "                        # Column labels for data\n",
    "                        key_on=\"feature.properties.name\",\n",
    "                        # How to join geo_data and data. Required the\n",
    "                            # dictionary key from geo_data that results to\n",
    "                            # the country's name.\n",
    "                        fill_color=\"YlGn\",\n",
    "                        # Defines which colour scale to use\n",
    "                        nan_fill_opacity=0,\n",
    "                        # Set this argument to 0 if we do not want our\n",
    "                            # not shown countries to be shaded\n",
    "                        name=\"BRICS Countries\",\n",
    "                        # Name for the map overlay\n",
    "                        show=False\n",
    "                        # Whether or not the overlay will show by default\n",
    "                        ).add_to(m)\n",
    "m"
   ]
  },
  {
   "cell_type": "code",
   "execution_count": null,
   "metadata": {},
   "outputs": [],
   "source": [
    "country= [\"Brazil\", \"Russia\", \"India\", \n",
    "                \"China\", \"South Africa\"]\n",
    "gdp = [1363, 1464, 3440, 19911, 370]\n",
    "country_list = pd.DataFrame(list(zip(country, gdp)), \n",
    "                            columns=[\"Country\", \"GDP\"])\n"
   ]
  },
  {
   "cell_type": "markdown",
   "metadata": {},
   "source": [
    "The map works. But is not optimal yet. It would be nice if the name of the country got displayed when hovering over. And since the country's name can be displayed, maybe we can display other information as well."
   ]
  },
  {
   "cell_type": "code",
   "execution_count": null,
   "metadata": {},
   "outputs": [],
   "source": [
    "# In order to achieve that we will create a new dataframe with \n",
    "# relevant information\n",
    "country= [\"Brazil\", \"Russia\", \"India\", \n",
    "                \"China\", \"South Africa\"]\n",
    "gdp = [1363, 1464, 3440, 19911, 370]\n",
    "country_list = pd.DataFrame(list(zip(country, gdp)), \n",
    "                            columns=[\"country\", \"gdp\"])\n",
    "# Plot the map as we did before\n",
    "m = folium.Map(location=[51,10], zoom_start=3)\n",
    "i = folium.Choropleth(geo_data=countries,\n",
    "                        data=country_list,\n",
    "                        columns=[\"country\", \"gdp\"],\n",
    "                        key_on=\"feature.properties.name\",\n",
    "                        fill_color=\"YlGn\",\n",
    "                        nan_fill_opacity=0,\n",
    "                        name=\"BRICS Countries\",\n",
    "                        show=False\n",
    "                        ).add_to(m)\n",
    "# First we need to set the country names as index in our dataframe\n",
    "# Then we need to add the values we wat to display, in our case column tempo\n",
    "# inside the countries dictionary.\n",
    "country_list=country_list.set_index(\"country\")\n",
    "for s in i.geojson.data[\"features\"]:\n",
    "    try:\n",
    "        s[\"properties\"][\"gdp\"]=\"{:,}\".format(round(\n",
    "                                country_list.at[\n",
    "                                    s[\"properties\"][\"name\"],\"gdp\"]))\n",
    "    except KeyError:\n",
    "        s[\"properties\"][\"gdp\"]=0\n",
    "# Now we add the hovering tootltip\n",
    "folium.GeoJsonTooltip(fields=[\"name\", \"gdp\"],\n",
    "                        # The columns from which to draw data for displaying\n",
    "                            # on hover over\n",
    "                        aliases=[\"Country:\", \"GDP(2022) in $B:\"],\n",
    "                        # How to \"rename\" the column labels for \n",
    "                            # display purposes \n",
    "                        ).add_to(i.geojson)\n",
    "m.add_child(folium.LayerControl())\n",
    "m"
   ]
  },
  {
   "cell_type": "markdown",
   "metadata": {},
   "source": [
    "Let's try one more overlay exercise, this time with multiple overlays, just to ensure we know how it works."
   ]
  },
  {
   "cell_type": "code",
   "execution_count": null,
   "metadata": {},
   "outputs": [],
   "source": [
    "# For simplicity's sake, we will  stick with the BRICS data, and just add an\n",
    "# overlay for each country's population.\n",
    "country= [\"Brazil\", \"Russia\", \"India\", \n",
    "                \"China\", \"South Africa\"]\n",
    "gdp = [1363, 1464, 3440, 19911, 370]\n",
    "population = [210869, 143964, 1367089, 1415045, 57398]\n",
    "country_list = pd.DataFrame(list(zip(country, gdp, population)), \n",
    "                            columns=[\"country\", \"gdp\", \"pop\"])\n",
    "# Plot the map once more\n",
    "m = folium.Map(location=[51,10], zoom_start=3)\n",
    "# For each seperate overlay we want to be displayed we have to create a \n",
    "# seperate Choropleth object. In our case, it will be i1 for the GDP overlay\n",
    "# and i2 for the population one.\n",
    "i1 = folium.Choropleth(geo_data=countries,\n",
    "                        data=country_list,\n",
    "                        columns=[\"country\", \"gdp\"],\n",
    "                        key_on=\"feature.properties.name\",\n",
    "                        fill_color=\"YlGn\",\n",
    "                        nan_fill_opacity=0,\n",
    "                        name=\"BRICS Countries GDP\",\n",
    "                        show=False\n",
    "                        ).add_to(m)\n",
    "i2 = folium.Choropleth(geo_data=countries,\n",
    "                        data=country_list,\n",
    "                        columns=[\"country\", \"pop\"],\n",
    "                        key_on=\"feature.properties.name\",\n",
    "                        fill_color=\"YlGn\",\n",
    "                        nan_fill_opacity=0,\n",
    "                        name=\"BRICS Countries population\",\n",
    "                        show=False\n",
    "                        ).add_to(m)\n",
    "# Again, pass the GDP and population information to the countries dictionary\n",
    "country_list=country_list.set_index(\"country\")\n",
    "for s in i.geojson.data[\"features\"]:\n",
    "    try:\n",
    "        s[\"properties\"][\"gdp\"]=\"{:,}\".format(round(\n",
    "                                country_list.at[\n",
    "                                    s[\"properties\"][\"name\"],\"gdp\"]))\n",
    "    except KeyError:\n",
    "        s[\"properties\"][\"gdp\"]=0\n",
    "    try:\n",
    "        s[\"properties\"][\"pop\"]=\"{:,}\".format(round(\n",
    "                                country_list.at[\n",
    "                                    s[\"properties\"][\"name\"],\"pop\"]))\n",
    "    except KeyError:\n",
    "        s[\"properties\"][\"pop\"]=0\n",
    "# Add the GDP overlay\n",
    "folium.GeoJsonTooltip(fields=[\"name\", \"gdp\"],\n",
    "                        aliases=[\"Country:\", \n",
    "                                \"GDP(2022) in $B:\"],\n",
    "                        ).add_to(i1.geojson)  \n",
    "# Add the population overlay\n",
    "folium.GeoJsonTooltip(fields=[\"name\", \"pop\"],\n",
    "                        aliases=[\"Country:\", \n",
    "                                \"Population(2022) in thousands:\"],\n",
    "                        ).add_to(i2.geojson)\n",
    "m.add_child(folium.LayerControl())\n",
    "m"
   ]
  },
  {
   "cell_type": "markdown",
   "metadata": {},
   "source": [
    "As you noticed, the last map we created has two colourmap legends. That is because the two metrics we are displaying, GDP and population have radically different scales."
   ]
  }
 ],
 "metadata": {
  "kernelspec": {
   "display_name": "Python 3.9.7 ('base')",
   "language": "python",
   "name": "python3"
  },
  "language_info": {
   "codemirror_mode": {
    "name": "ipython",
    "version": 3
   },
   "file_extension": ".py",
   "mimetype": "text/x-python",
   "name": "python",
   "nbconvert_exporter": "python",
   "pygments_lexer": "ipython3",
   "version": "3.9.7"
  },
  "orig_nbformat": 4,
  "vscode": {
   "interpreter": {
    "hash": "34ab73eb2a201c4b750598ec4bd41f14c725bb809bc0c8207569acb80dee3ff5"
   }
  }
 },
 "nbformat": 4,
 "nbformat_minor": 2
}
